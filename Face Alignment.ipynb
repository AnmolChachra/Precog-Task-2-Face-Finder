{
 "cells": [
  {
   "cell_type": "code",
   "execution_count": 2,
   "metadata": {},
   "outputs": [],
   "source": [
    "from imutils import face_utils\n",
    "import numpy as np\n",
    "import dlib\n",
    "import cv2\n",
    "import argparse\n",
    "import imutils\n",
    "import os\n",
    "from tqdm import tqdm"
   ]
  },
  {
   "cell_type": "code",
   "execution_count": 3,
   "metadata": {},
   "outputs": [
    {
     "name": "stderr",
     "output_type": "stream",
     "text": [
      "100%|██████████| 1/1 [00:00<00:00, 51.62it/s]\n"
     ]
    }
   ],
   "source": [
    "# construct the argument parser and parse the arguments\n",
    "ap = argparse.ArgumentParser()\n",
    "#ap.add_argument(\"-p\", \"--shape-predictor\", required=True,help=\"path to facial landmark predictor\")\n",
    "#ap.add_argument(\"-i\", \"--image\", required=True,help=\"path to input image\")\n",
    "#args = vars(ap.parse_args())\n",
    "\n",
    "# initialize dlib's face detector (HOG-based) and then create\n",
    "# the facial landmark predictor\n",
    "detector = dlib.get_frontal_face_detector()\n",
    "predictor = dlib.shape_predictor('shape_predictor_68_face_landmarks.dat')\n",
    "fa = face_utils.FaceAligner(predictor, desiredFaceWidth=100)\n",
    "\n",
    "# load the input image, resize it, and convert it to grayscale\n",
    "\n",
    "source_path = 'pic_rectangles'\n",
    "destination_path = 'pic_rotations/'\n",
    "if os.path.exists(source_path)==False:\n",
    "    os.mkdir(source_path)\n",
    "if os.path.exists(destination_path)==False:\n",
    "    os.mkdir(destination_path)\n",
    "Records = []\n",
    "count=0\n",
    "for img in tqdm(os.listdir(source_path)):\n",
    "    image_path = os.path.join(source_path, img)\n",
    "    image = cv2.imread(image_path)\n",
    "    image = cv2.pyrUp(image)\n",
    "    image = cv2.resize(image, (250,250))\n",
    "    gray = cv2.cvtColor(image, cv2.COLOR_BGR2GRAY)\n",
    "    rects = detector(gray,0)\n",
    "    if len(rects) == 0:\n",
    "        Records.append(img)\n",
    "    for rect in rects:\n",
    "        count+=1\n",
    "        faceAligned = fa.align(image, gray, rect)\n",
    "        cv2.imwrite(os.path.join(destination_path,str(count)+\".jpg\"), faceAligned)\n",
    "\n",
    "for i in Records:\n",
    "    count+=1\n",
    "    image = cv2.imread(os.path.join(source_path,i))\n",
    "    image = cv2.resize(image,(100,100))\n",
    "    cv2.imwrite(os.path.join(destination_path,str(count)+\".jpg\"),image)"
   ]
  },
  {
   "cell_type": "code",
   "execution_count": 28,
   "metadata": {},
   "outputs": [
    {
     "data": {
      "text/plain": [
       "(100, 100, 3)"
      ]
     },
     "execution_count": 28,
     "metadata": {},
     "output_type": "execute_result"
    }
   ],
   "source": [
    "faceAligned.shape"
   ]
  },
  {
   "cell_type": "code",
   "execution_count": null,
   "metadata": {},
   "outputs": [],
   "source": []
  }
 ],
 "metadata": {
  "kernelspec": {
   "display_name": "anmolvm",
   "language": "python",
   "name": "anmolvm"
  },
  "language_info": {
   "codemirror_mode": {
    "name": "ipython",
    "version": 3
   },
   "file_extension": ".py",
   "mimetype": "text/x-python",
   "name": "python",
   "nbconvert_exporter": "python",
   "pygments_lexer": "ipython3",
   "version": "3.5.2"
  }
 },
 "nbformat": 4,
 "nbformat_minor": 2
}
